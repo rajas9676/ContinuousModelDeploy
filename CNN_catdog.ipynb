{
 "cells": [
  {
   "cell_type": "code",
   "execution_count": 1,
   "id": "preliminary-night",
   "metadata": {},
   "outputs": [],
   "source": [
    "import tensorflow as tf\n",
    "import pickle\n",
    "from keras.preprocessing.image import ImageDataGenerator"
   ]
  },
  {
   "cell_type": "code",
   "execution_count": 2,
   "id": "better-accreditation",
   "metadata": {},
   "outputs": [
    {
     "data": {
      "text/plain": [
       "'2.5.0-dev20210323'"
      ]
     },
     "execution_count": 2,
     "metadata": {},
     "output_type": "execute_result"
    }
   ],
   "source": [
    "tf.__version__"
   ]
  },
  {
   "cell_type": "markdown",
   "id": "cleared-internship",
   "metadata": {},
   "source": [
    "## Data preprocessing"
   ]
  },
  {
   "cell_type": "code",
   "execution_count": 3,
   "id": "earned-astrology",
   "metadata": {},
   "outputs": [
    {
     "name": "stdout",
     "output_type": "stream",
     "text": [
      "Found 8000 images belonging to 2 classes.\n"
     ]
    }
   ],
   "source": [
    "train_datagen = ImageDataGenerator(\n",
    "        rescale=1./255,\n",
    "        shear_range=0.2,\n",
    "        zoom_range=0.2,\n",
    "        horizontal_flip=True)\n",
    "training_set = train_datagen.flow_from_directory(\n",
    "        'dataset/training_set',\n",
    "        target_size=(64, 64),\n",
    "        batch_size=32,\n",
    "        class_mode='binary')"
   ]
  },
  {
   "cell_type": "code",
   "execution_count": 4,
   "id": "apparent-revelation",
   "metadata": {},
   "outputs": [
    {
     "name": "stdout",
     "output_type": "stream",
     "text": [
      "Found 2000 images belonging to 2 classes.\n"
     ]
    }
   ],
   "source": [
    "test_datagen = ImageDataGenerator(rescale=1./255)\n",
    "test_set = test_datagen.flow_from_directory(\n",
    "        'dataset/test_set',\n",
    "        target_size=(64, 64),\n",
    "        batch_size=32,\n",
    "        class_mode='binary')"
   ]
  },
  {
   "cell_type": "markdown",
   "id": "satellite-harvest",
   "metadata": {},
   "source": [
    "## BUILDING THE CNN"
   ]
  },
  {
   "cell_type": "code",
   "execution_count": 5,
   "id": "decent-signature",
   "metadata": {},
   "outputs": [],
   "source": [
    "cnn = tf.keras.models.Sequential()"
   ]
  },
  {
   "cell_type": "markdown",
   "id": "fleet-variance",
   "metadata": {},
   "source": [
    "## 1. Convolution"
   ]
  },
  {
   "cell_type": "code",
   "execution_count": 6,
   "id": "based-coast",
   "metadata": {},
   "outputs": [],
   "source": [
    "cnn.add(tf.keras.layers.Conv2D(filters=32, kernel_size=3, activation='relu', input_shape=[64, 64, 3]))"
   ]
  },
  {
   "cell_type": "markdown",
   "id": "innovative-yugoslavia",
   "metadata": {},
   "source": [
    "## 2. Pooling"
   ]
  },
  {
   "cell_type": "code",
   "execution_count": 7,
   "id": "creative-theorem",
   "metadata": {},
   "outputs": [],
   "source": [
    "cnn.add(tf.keras.layers.MaxPool2D(pool_size=2, strides=2))"
   ]
  },
  {
   "cell_type": "code",
   "execution_count": 8,
   "id": "familiar-compression",
   "metadata": {},
   "outputs": [],
   "source": [
    "cnn.add(tf.keras.layers.Conv2D(filters=32, kernel_size=3, activation='relu'))\n",
    "cnn.add(tf.keras.layers.MaxPool2D(pool_size=2, strides=2))"
   ]
  },
  {
   "cell_type": "markdown",
   "id": "furnished-rachel",
   "metadata": {},
   "source": [
    "## 3. Flattening"
   ]
  },
  {
   "cell_type": "code",
   "execution_count": 9,
   "id": "lasting-facility",
   "metadata": {},
   "outputs": [],
   "source": [
    "cnn.add(tf.keras.layers.Flatten())"
   ]
  },
  {
   "cell_type": "markdown",
   "id": "extensive-botswana",
   "metadata": {},
   "source": [
    "## 4. Full connection"
   ]
  },
  {
   "cell_type": "code",
   "execution_count": 10,
   "id": "certified-works",
   "metadata": {},
   "outputs": [],
   "source": [
    "cnn.add(tf.keras.layers.Dense(units=128, activation='relu'))"
   ]
  },
  {
   "cell_type": "markdown",
   "id": "portuguese-malpractice",
   "metadata": {},
   "source": [
    "## 5. Output layer"
   ]
  },
  {
   "cell_type": "code",
   "execution_count": 11,
   "id": "liberal-trace",
   "metadata": {},
   "outputs": [],
   "source": [
    "cnn.add(tf.keras.layers.Dense(units=1, activation='sigmoid'))"
   ]
  },
  {
   "cell_type": "markdown",
   "id": "forbidden-honduras",
   "metadata": {},
   "source": [
    "## TRAINING THE CNN"
   ]
  },
  {
   "cell_type": "code",
   "execution_count": 12,
   "id": "proprietary-ethernet",
   "metadata": {},
   "outputs": [],
   "source": [
    "cnn.compile(optimizer='adam', loss='binary_crossentropy', metrics=['accuracy'])"
   ]
  },
  {
   "cell_type": "code",
   "execution_count": 13,
   "id": "fourth-mission",
   "metadata": {},
   "outputs": [
    {
     "name": "stdout",
     "output_type": "stream",
     "text": [
      "250/250 [==============================] - 144s 576ms/step - loss: 0.6990 - accuracy: 0.5465 - val_loss: 0.6334 - val_accuracy: 0.6415\n"
     ]
    },
    {
     "data": {
      "text/plain": [
       "<tensorflow.python.keras.callbacks.History at 0x18a47ff8e20>"
      ]
     },
     "execution_count": 13,
     "metadata": {},
     "output_type": "execute_result"
    }
   ],
   "source": [
    "cnn.fit(x=training_set, validation_data=test_set, epochs=1)"
   ]
  },
  {
   "cell_type": "markdown",
   "id": "stone-assurance",
   "metadata": {},
   "source": [
    "## Making a single prediction"
   ]
  },
  {
   "cell_type": "code",
   "execution_count": 14,
   "id": "numerous-summer",
   "metadata": {},
   "outputs": [],
   "source": [
    "import numpy as np\n",
    "from keras.preprocessing import image"
   ]
  },
  {
   "cell_type": "code",
   "execution_count": 15,
   "id": "primary-saturn",
   "metadata": {},
   "outputs": [],
   "source": [
    "test_image = image.load_img('dataset/single_prediction/cat_or_dog_2.jpg', target_size=(64, 64))\n",
    "test_image = image.img_to_array(test_image)\n",
    "test_image = np.expand_dims(test_image, axis=0)"
   ]
  },
  {
   "cell_type": "code",
   "execution_count": 16,
   "id": "ambient-revelation",
   "metadata": {},
   "outputs": [
    {
     "name": "stdout",
     "output_type": "stream",
     "text": [
      "dog\n"
     ]
    }
   ],
   "source": [
    "result = cnn.predict(test_image)\n",
    "training_set.class_indices\n",
    "if result[0][0] == 1:\n",
    "    prediction = 'dog'\n",
    "else:\n",
    "    prediction = 'cat'\n",
    "print(prediction)"
   ]
  },
  {
   "cell_type": "code",
   "execution_count": 18,
   "id": "dramatic-charter",
   "metadata": {},
   "outputs": [],
   "source": [
    "cnn.save('catdog_model.h5')"
   ]
  },
  {
   "cell_type": "code",
   "execution_count": 19,
   "id": "prostate-topic",
   "metadata": {},
   "outputs": [
    {
     "name": "stdout",
     "output_type": "stream",
     "text": [
      "Collecting jupyterlab\n",
      "  Downloading jupyterlab-3.0.16-py3-none-any.whl (8.2 MB)\n",
      "Collecting jupyterlab-git\n",
      "  Downloading jupyterlab_git-0.30.1-py3-none-any.whl (478 kB)\n",
      "Requirement already satisfied, skipping upgrade: jupyter-core in c:\\python39\\lib\\site-packages (from jupyterlab) (4.7.1)\n",
      "Requirement already satisfied, skipping upgrade: tornado>=6.1.0 in c:\\python39\\lib\\site-packages (from jupyterlab) (6.1)\n",
      "Requirement already satisfied, skipping upgrade: jupyter-server~=1.4 in c:\\python39\\lib\\site-packages (from jupyterlab) (1.4.1)\n",
      "Requirement already satisfied, skipping upgrade: jupyterlab-server~=2.3 in c:\\python39\\lib\\site-packages (from jupyterlab) (2.3.0)\n",
      "Requirement already satisfied, skipping upgrade: nbclassic~=0.2 in c:\\python39\\lib\\site-packages (from jupyterlab) (0.2.6)\n",
      "Requirement already satisfied, skipping upgrade: jinja2>=2.1 in c:\\python39\\lib\\site-packages (from jupyterlab) (2.11.3)\n",
      "Requirement already satisfied, skipping upgrade: ipython in c:\\python39\\lib\\site-packages (from jupyterlab) (7.21.0)\n",
      "Requirement already satisfied, skipping upgrade: packaging in c:\\python39\\lib\\site-packages (from jupyterlab) (20.9)\n",
      "Collecting pexpect\n",
      "  Downloading pexpect-4.8.0-py2.py3-none-any.whl (59 kB)\n",
      "Collecting nbdime~=3.0\n",
      "  Downloading nbdime-3.1.0-py2.py3-none-any.whl (5.1 MB)\n",
      "Requirement already satisfied, skipping upgrade: nbformat in c:\\python39\\lib\\site-packages (from jupyterlab-git) (5.1.2)\n",
      "Requirement already satisfied, skipping upgrade: traitlets in c:\\python39\\lib\\site-packages (from jupyter-core->jupyterlab) (5.0.5)\n",
      "Requirement already satisfied, skipping upgrade: pywin32>=1.0; sys_platform == \"win32\" in c:\\python39\\lib\\site-packages (from jupyter-core->jupyterlab) (300)\n",
      "Requirement already satisfied, skipping upgrade: anyio>=2.0.2 in c:\\python39\\lib\\site-packages (from jupyter-server~=1.4->jupyterlab) (2.2.0)\n",
      "Requirement already satisfied, skipping upgrade: nbconvert in c:\\python39\\lib\\site-packages (from jupyter-server~=1.4->jupyterlab) (6.0.7)\n",
      "Requirement already satisfied, skipping upgrade: pyzmq>=17 in c:\\python39\\lib\\site-packages (from jupyter-server~=1.4->jupyterlab) (22.0.3)\n",
      "Requirement already satisfied, skipping upgrade: jupyter-client>=6.1.1 in c:\\python39\\lib\\site-packages (from jupyter-server~=1.4->jupyterlab) (6.1.12)\n",
      "Requirement already satisfied, skipping upgrade: Send2Trash in c:\\python39\\lib\\site-packages (from jupyter-server~=1.4->jupyterlab) (1.5.0)\n",
      "Requirement already satisfied, skipping upgrade: terminado>=0.8.3 in c:\\python39\\lib\\site-packages (from jupyter-server~=1.4->jupyterlab) (0.9.3)\n",
      "Requirement already satisfied, skipping upgrade: prometheus-client in c:\\python39\\lib\\site-packages (from jupyter-server~=1.4->jupyterlab) (0.9.0)\n",
      "Note: you may need to restart the kernel to use updated packages.Requirement already satisfied, skipping upgrade: ipython-genutils in c:\\python39\\lib\\site-packages (from jupyter-server~=1.4->jupyterlab) (0.2.0)\n",
      "Requirement already satisfied, skipping upgrade: babel in c:\\python39\\lib\\site-packages (from jupyterlab-server~=2.3->jupyterlab) (2.9.0)\n",
      "Requirement already satisfied, skipping upgrade: json5 in c:\\python39\\lib\\site-packages (from jupyterlab-server~=2.3->jupyterlab) (0.9.5)\n",
      "Requirement already satisfied, skipping upgrade: requests in c:\\python39\\lib\\site-packages (from jupyterlab-server~=2.3->jupyterlab) (2.25.1)\n",
      "\n"
     ]
    },
    {
     "name": "stderr",
     "output_type": "stream",
     "text": [
      "ERROR: Could not install packages due to an EnvironmentError: [WinError 5] Access is denied: 'c:\\\\python39\\\\etc\\\\jupyter\\\\jupyter_notebook_config.d\\\\jupyterlab.json'\n",
      "Consider using the `--user` option or check the permissions.\n",
      "\n",
      "WARNING: You are using pip version 20.2.3; however, version 21.1.2 is available.\n",
      "You should consider upgrading via the 'c:\\python39\\python.exe -m pip install --upgrade pip' command.\n"
     ]
    },
    {
     "name": "stdout",
     "output_type": "stream",
     "text": [
      "Requirement already satisfied, skipping upgrade: jsonschema>=3.0.1 in c:\\python39\\lib\\site-packages (from jupyterlab-server~=2.3->jupyterlab) (3.2.0)\n",
      "Requirement already satisfied, skipping upgrade: notebook<7 in c:\\python39\\lib\\site-packages (from nbclassic~=0.2->jupyterlab) (6.2.0)\n",
      "Requirement already satisfied, skipping upgrade: MarkupSafe>=0.23 in c:\\python39\\lib\\site-packages (from jinja2>=2.1->jupyterlab) (1.1.1)\n",
      "Requirement already satisfied, skipping upgrade: prompt-toolkit!=3.0.0,!=3.0.1,<3.1.0,>=2.0.0 in c:\\python39\\lib\\site-packages (from ipython->jupyterlab) (3.0.17)\n",
      "Requirement already satisfied, skipping upgrade: pickleshare in c:\\python39\\lib\\site-packages (from ipython->jupyterlab) (0.7.5)\n",
      "Requirement already satisfied, skipping upgrade: pygments in c:\\python39\\lib\\site-packages (from ipython->jupyterlab) (2.8.1)\n",
      "Requirement already satisfied, skipping upgrade: setuptools>=18.5 in c:\\python39\\lib\\site-packages (from ipython->jupyterlab) (49.2.1)\n",
      "Requirement already satisfied, skipping upgrade: jedi>=0.16 in c:\\python39\\lib\\site-packages (from ipython->jupyterlab) (0.18.0)\n",
      "Requirement already satisfied, skipping upgrade: backcall in c:\\python39\\lib\\site-packages (from ipython->jupyterlab) (0.2.0)\n",
      "Requirement already satisfied, skipping upgrade: colorama; sys_platform == \"win32\" in c:\\python39\\lib\\site-packages (from ipython->jupyterlab) (0.4.4)\n",
      "Requirement already satisfied, skipping upgrade: decorator in c:\\python39\\lib\\site-packages (from ipython->jupyterlab) (4.4.2)\n",
      "Requirement already satisfied, skipping upgrade: pyparsing>=2.0.2 in c:\\python39\\lib\\site-packages (from packaging->jupyterlab) (2.4.7)\n",
      "Collecting ptyprocess>=0.5\n",
      "  Downloading ptyprocess-0.7.0-py2.py3-none-any.whl (13 kB)\n",
      "Collecting jupyter-server-mathjax>=0.2.2\n",
      "  Downloading jupyter_server_mathjax-0.2.3-py3-none-any.whl (3.1 MB)\n",
      "Collecting GitPython!=2.1.4,!=2.1.5,!=2.1.6\n",
      "  Downloading GitPython-3.1.18-py3-none-any.whl (170 kB)\n",
      "Requirement already satisfied, skipping upgrade: sniffio>=1.1 in c:\\python39\\lib\\site-packages (from anyio>=2.0.2->jupyter-server~=1.4->jupyterlab) (1.2.0)\n",
      "Requirement already satisfied, skipping upgrade: idna>=2.8 in c:\\python39\\lib\\site-packages (from anyio>=2.0.2->jupyter-server~=1.4->jupyterlab) (2.10)\n",
      "Requirement already satisfied, skipping upgrade: jupyterlab-pygments in c:\\python39\\lib\\site-packages (from nbconvert->jupyter-server~=1.4->jupyterlab) (0.1.2)\n",
      "Requirement already satisfied, skipping upgrade: bleach in c:\\python39\\lib\\site-packages (from nbconvert->jupyter-server~=1.4->jupyterlab) (3.3.0)\n",
      "Requirement already satisfied, skipping upgrade: nbclient<0.6.0,>=0.5.0 in c:\\python39\\lib\\site-packages (from nbconvert->jupyter-server~=1.4->jupyterlab) (0.5.3)\n",
      "Requirement already satisfied, skipping upgrade: defusedxml in c:\\python39\\lib\\site-packages (from nbconvert->jupyter-server~=1.4->jupyterlab) (0.7.1)\n",
      "Requirement already satisfied, skipping upgrade: mistune<2,>=0.8.1 in c:\\python39\\lib\\site-packages (from nbconvert->jupyter-server~=1.4->jupyterlab) (0.8.4)\n",
      "Requirement already satisfied, skipping upgrade: pandocfilters>=1.4.1 in c:\\python39\\lib\\site-packages (from nbconvert->jupyter-server~=1.4->jupyterlab) (1.4.3)\n",
      "Requirement already satisfied, skipping upgrade: entrypoints>=0.2.2 in c:\\python39\\lib\\site-packages (from nbconvert->jupyter-server~=1.4->jupyterlab) (0.3)\n",
      "Requirement already satisfied, skipping upgrade: testpath in c:\\python39\\lib\\site-packages (from nbconvert->jupyter-server~=1.4->jupyterlab) (0.4.4)\n",
      "Requirement already satisfied, skipping upgrade: python-dateutil>=2.1 in c:\\python39\\lib\\site-packages (from jupyter-client>=6.1.1->jupyter-server~=1.4->jupyterlab) (2.8.1)\n",
      "Requirement already satisfied, skipping upgrade: pywinpty>=0.5; os_name == \"nt\" in c:\\python39\\lib\\site-packages (from terminado>=0.8.3->jupyter-server~=1.4->jupyterlab) (0.5.7)\n",
      "Requirement already satisfied, skipping upgrade: pytz>=2015.7 in c:\\python39\\lib\\site-packages (from babel->jupyterlab-server~=2.3->jupyterlab) (2021.1)\n",
      "Requirement already satisfied, skipping upgrade: chardet<5,>=3.0.2 in c:\\python39\\lib\\site-packages (from requests->jupyterlab-server~=2.3->jupyterlab) (4.0.0)\n",
      "Requirement already satisfied, skipping upgrade: urllib3<1.27,>=1.21.1 in c:\\python39\\lib\\site-packages (from requests->jupyterlab-server~=2.3->jupyterlab) (1.26.4)\n",
      "Requirement already satisfied, skipping upgrade: certifi>=2017.4.17 in c:\\python39\\lib\\site-packages (from requests->jupyterlab-server~=2.3->jupyterlab) (2020.12.5)\n",
      "Requirement already satisfied, skipping upgrade: attrs>=17.4.0 in c:\\python39\\lib\\site-packages (from jsonschema>=3.0.1->jupyterlab-server~=2.3->jupyterlab) (20.3.0)\n",
      "Requirement already satisfied, skipping upgrade: pyrsistent>=0.14.0 in c:\\python39\\lib\\site-packages (from jsonschema>=3.0.1->jupyterlab-server~=2.3->jupyterlab) (0.17.3)\n",
      "Requirement already satisfied, skipping upgrade: six>=1.11.0 in c:\\python39\\lib\\site-packages (from jsonschema>=3.0.1->jupyterlab-server~=2.3->jupyterlab) (1.15.0)\n",
      "Requirement already satisfied, skipping upgrade: argon2-cffi in c:\\python39\\lib\\site-packages (from notebook<7->nbclassic~=0.2->jupyterlab) (20.1.0)\n",
      "Requirement already satisfied, skipping upgrade: ipykernel in c:\\python39\\lib\\site-packages (from notebook<7->nbclassic~=0.2->jupyterlab) (5.5.0)\n",
      "Requirement already satisfied, skipping upgrade: wcwidth in c:\\python39\\lib\\site-packages (from prompt-toolkit!=3.0.0,!=3.0.1,<3.1.0,>=2.0.0->ipython->jupyterlab) (0.2.5)\n",
      "Requirement already satisfied, skipping upgrade: parso<0.9.0,>=0.8.0 in c:\\python39\\lib\\site-packages (from jedi>=0.16->ipython->jupyterlab) (0.8.1)\n",
      "Collecting gitdb<5,>=4.0.1\n",
      "  Downloading gitdb-4.0.7-py3-none-any.whl (63 kB)\n",
      "Requirement already satisfied, skipping upgrade: webencodings in c:\\python39\\lib\\site-packages (from bleach->nbconvert->jupyter-server~=1.4->jupyterlab) (0.5.1)\n",
      "Requirement already satisfied, skipping upgrade: async-generator in c:\\python39\\lib\\site-packages (from nbclient<0.6.0,>=0.5.0->nbconvert->jupyter-server~=1.4->jupyterlab) (1.10)\n",
      "Requirement already satisfied, skipping upgrade: nest-asyncio in c:\\python39\\lib\\site-packages (from nbclient<0.6.0,>=0.5.0->nbconvert->jupyter-server~=1.4->jupyterlab) (1.5.1)\n",
      "Requirement already satisfied, skipping upgrade: cffi>=1.0.0 in c:\\python39\\lib\\site-packages (from argon2-cffi->notebook<7->nbclassic~=0.2->jupyterlab) (1.14.5)\n",
      "Collecting smmap<5,>=3.0.1\n",
      "  Downloading smmap-4.0.0-py2.py3-none-any.whl (24 kB)\n",
      "Requirement already satisfied, skipping upgrade: pycparser in c:\\python39\\lib\\site-packages (from cffi>=1.0.0->argon2-cffi->notebook<7->nbclassic~=0.2->jupyterlab) (2.20)\n",
      "Installing collected packages: jupyterlab, ptyprocess, pexpect, jupyter-server-mathjax, smmap, gitdb, GitPython, nbdime, jupyterlab-git\n",
      "  Attempting uninstall: jupyterlab\n",
      "    Found existing installation: jupyterlab 3.0.12\n",
      "    Uninstalling jupyterlab-3.0.12:\n"
     ]
    }
   ],
   "source": [
    "pip install --upgrade jupyterlab jupyterlab-git"
   ]
  },
  {
   "cell_type": "code",
   "execution_count": 20,
   "id": "raised-relief",
   "metadata": {},
   "outputs": [
    {
     "name": "stdout",
     "output_type": "stream",
     "text": [
      "Collecting jupyterlab\n",
      "  Using cached jupyterlab-3.0.16-py3-none-any.whl (8.2 MB)\n",
      "Collecting jupyterlab-git\n",
      "  Using cached jupyterlab_git-0.30.1-py3-none-any.whl (478 kB)\n",
      "Requirement already satisfied, skipping upgrade: jinja2>=2.1 in c:\\python39\\lib\\site-packages (from jupyterlab) (2.11.3)\n",
      "Requirement already satisfied, skipping upgrade: jupyter-server~=1.4 in c:\\python39\\lib\\site-packages (from jupyterlab) (1.4.1)\n",
      "Requirement already satisfied, skipping upgrade: jupyter-core in c:\\python39\\lib\\site-packages (from jupyterlab) (4.7.1)\n",
      "Requirement already satisfied, skipping upgrade: jupyterlab-server~=2.3 in c:\\python39\\lib\\site-packages (from jupyterlab) (2.3.0)Note: you may need to restart the kernel to use updated packages.\n",
      "Requirement already satisfied, skipping upgrade: nbclassic~=0.2 in c:\\python39\\lib\\site-packages (from jupyterlab) (0.2.6)\n",
      "Requirement already satisfied, skipping upgrade: tornado>=6.1.0 in c:\\python39\\lib\\site-packages (from jupyterlab) (6.1)\n",
      "Requirement already satisfied, skipping upgrade: ipython in c:\\python39\\lib\\site-packages (from jupyterlab) (7.21.0)\n",
      "Requirement already satisfied, skipping upgrade: packaging in c:\\python39\\lib\\site-packages (from jupyterlab) (20.9)\n",
      "Requirement already satisfied, skipping upgrade: nbformat in c:\\python39\\lib\\site-packages (from jupyterlab-git) (5.1.2)\n",
      "Collecting pexpect\n",
      "  Using cached pexpect-4.8.0-py2.py3-none-any.whl (59 kB)\n",
      "Collecting nbdime~=3.0\n",
      "  Using cached nbdime-3.1.0-py2.py3-none-any.whl (5.1 MB)\n",
      "Requirement already satisfied, skipping upgrade: MarkupSafe>=0.23 in c:\\python39\\lib\\site-packages (from jinja2>=2.1->jupyterlab) (1.1.1)\n",
      "Requirement already satisfied, skipping upgrade: Send2Trash in c:\\python39\\lib\\site-packages (from jupyter-server~=1.4->jupyterlab) (1.5.0)\n",
      "Requirement already satisfied, skipping upgrade: nbconvert in c:\\python39\\lib\\site-packages (from jupyter-server~=1.4->jupyterlab) (6.0.7)\n",
      "Requirement already satisfied, skipping upgrade: terminado>=0.8.3 in c:\\python39\\lib\\site-packages (from jupyter-server~=1.4->jupyterlab) (0.9.3)\n",
      "\n",
      "Requirement already satisfied, skipping upgrade: pywin32>=1.0; sys_platform == \"win32\" in c:\\python39\\lib\\site-packages (from jupyter-server~=1.4->jupyterlab) (300)\n",
      "Requirement already satisfied, skipping upgrade: prometheus-client in c:\\python39\\lib\\site-packages (from jupyter-server~=1.4->jupyterlab) (0.9.0)\n",
      "Requirement already satisfied, skipping upgrade: traitlets>=4.2.1 in c:\\python39\\lib\\site-packages (from jupyter-server~=1.4->jupyterlab) (5.0.5)\n",
      "Requirement already satisfied, skipping upgrade: ipython-genutils in c:\\python39\\lib\\site-packages (from jupyter-server~=1.4->jupyterlab) (0.2.0)\n",
      "Requirement already satisfied, skipping upgrade: jupyter-client>=6.1.1 in c:\\python39\\lib\\site-packages (from jupyter-server~=1.4->jupyterlab) (6.1.12)\n"
     ]
    },
    {
     "name": "stderr",
     "output_type": "stream",
     "text": [
      "  WARNING: The scripts jlpm.exe, jupyter-lab.exe, jupyter-labextension.exe and jupyter-labhub.exe are installed in 'C:\\Users\\rajas\\AppData\\Roaming\\Python\\Python39\\Scripts' which is not on PATH.\n",
      "  Consider adding this directory to PATH or, if you prefer to suppress this warning, use --no-warn-script-location.\n",
      "  WARNING: The scripts git-nbdiffdriver.exe, git-nbdifftool.exe, git-nbmergedriver.exe, git-nbmergetool.exe, hg-nbdiff.exe, hg-nbdiffweb.exe, hg-nbmerge.exe, hg-nbmergeweb.exe, nbdiff-web.exe, nbdiff.exe, nbdime.exe, nbmerge-web.exe, nbmerge.exe and nbshow.exe are installed in 'C:\\Users\\rajas\\AppData\\Roaming\\Python\\Python39\\Scripts' which is not on PATH.\n",
      "  Consider adding this directory to PATH or, if you prefer to suppress this warning, use --no-warn-script-location.\n",
      "WARNING: You are using pip version 20.2.3; however, version 21.1.2 is available.\n",
      "You should consider upgrading via the 'c:\\python39\\python.exe -m pip install --upgrade pip' command.\n"
     ]
    },
    {
     "name": "stdout",
     "output_type": "stream",
     "text": [
      "Requirement already satisfied, skipping upgrade: anyio>=2.0.2 in c:\\python39\\lib\\site-packages (from jupyter-server~=1.4->jupyterlab) (2.2.0)\n",
      "Requirement already satisfied, skipping upgrade: pyzmq>=17 in c:\\python39\\lib\\site-packages (from jupyter-server~=1.4->jupyterlab) (22.0.3)\n",
      "Requirement already satisfied, skipping upgrade: jsonschema>=3.0.1 in c:\\python39\\lib\\site-packages (from jupyterlab-server~=2.3->jupyterlab) (3.2.0)\n",
      "Requirement already satisfied, skipping upgrade: babel in c:\\python39\\lib\\site-packages (from jupyterlab-server~=2.3->jupyterlab) (2.9.0)\n",
      "Requirement already satisfied, skipping upgrade: requests in c:\\python39\\lib\\site-packages (from jupyterlab-server~=2.3->jupyterlab) (2.25.1)\n",
      "Requirement already satisfied, skipping upgrade: json5 in c:\\python39\\lib\\site-packages (from jupyterlab-server~=2.3->jupyterlab) (0.9.5)\n",
      "Requirement already satisfied, skipping upgrade: notebook<7 in c:\\python39\\lib\\site-packages (from nbclassic~=0.2->jupyterlab) (6.2.0)\n",
      "Requirement already satisfied, skipping upgrade: jedi>=0.16 in c:\\python39\\lib\\site-packages (from ipython->jupyterlab) (0.18.0)\n",
      "Requirement already satisfied, skipping upgrade: decorator in c:\\python39\\lib\\site-packages (from ipython->jupyterlab) (4.4.2)\n",
      "Requirement already satisfied, skipping upgrade: setuptools>=18.5 in c:\\python39\\lib\\site-packages (from ipython->jupyterlab) (49.2.1)\n",
      "Requirement already satisfied, skipping upgrade: colorama; sys_platform == \"win32\" in c:\\python39\\lib\\site-packages (from ipython->jupyterlab) (0.4.4)\n",
      "Requirement already satisfied, skipping upgrade: pygments in c:\\python39\\lib\\site-packages (from ipython->jupyterlab) (2.8.1)\n",
      "Requirement already satisfied, skipping upgrade: prompt-toolkit!=3.0.0,!=3.0.1,<3.1.0,>=2.0.0 in c:\\python39\\lib\\site-packages (from ipython->jupyterlab) (3.0.17)\n",
      "Requirement already satisfied, skipping upgrade: backcall in c:\\python39\\lib\\site-packages (from ipython->jupyterlab) (0.2.0)\n",
      "Requirement already satisfied, skipping upgrade: pickleshare in c:\\python39\\lib\\site-packages (from ipython->jupyterlab) (0.7.5)\n",
      "Requirement already satisfied, skipping upgrade: pyparsing>=2.0.2 in c:\\python39\\lib\\site-packages (from packaging->jupyterlab) (2.4.7)\n",
      "Collecting ptyprocess>=0.5\n",
      "  Using cached ptyprocess-0.7.0-py2.py3-none-any.whl (13 kB)\n",
      "Collecting jupyter-server-mathjax>=0.2.2\n",
      "  Using cached jupyter_server_mathjax-0.2.3-py3-none-any.whl (3.1 MB)\n",
      "Collecting GitPython!=2.1.4,!=2.1.5,!=2.1.6\n",
      "  Using cached GitPython-3.1.18-py3-none-any.whl (170 kB)\n",
      "Requirement already satisfied, skipping upgrade: jupyterlab-pygments in c:\\python39\\lib\\site-packages (from nbconvert->jupyter-server~=1.4->jupyterlab) (0.1.2)\n",
      "Requirement already satisfied, skipping upgrade: defusedxml in c:\\python39\\lib\\site-packages (from nbconvert->jupyter-server~=1.4->jupyterlab) (0.7.1)\n",
      "Requirement already satisfied, skipping upgrade: bleach in c:\\python39\\lib\\site-packages (from nbconvert->jupyter-server~=1.4->jupyterlab) (3.3.0)\n",
      "Requirement already satisfied, skipping upgrade: nbclient<0.6.0,>=0.5.0 in c:\\python39\\lib\\site-packages (from nbconvert->jupyter-server~=1.4->jupyterlab) (0.5.3)\n",
      "Requirement already satisfied, skipping upgrade: pandocfilters>=1.4.1 in c:\\python39\\lib\\site-packages (from nbconvert->jupyter-server~=1.4->jupyterlab) (1.4.3)\n",
      "Requirement already satisfied, skipping upgrade: mistune<2,>=0.8.1 in c:\\python39\\lib\\site-packages (from nbconvert->jupyter-server~=1.4->jupyterlab) (0.8.4)\n",
      "Requirement already satisfied, skipping upgrade: testpath in c:\\python39\\lib\\site-packages (from nbconvert->jupyter-server~=1.4->jupyterlab) (0.4.4)\n",
      "Requirement already satisfied, skipping upgrade: entrypoints>=0.2.2 in c:\\python39\\lib\\site-packages (from nbconvert->jupyter-server~=1.4->jupyterlab) (0.3)\n",
      "Requirement already satisfied, skipping upgrade: pywinpty>=0.5; os_name == \"nt\" in c:\\python39\\lib\\site-packages (from terminado>=0.8.3->jupyter-server~=1.4->jupyterlab) (0.5.7)\n",
      "Requirement already satisfied, skipping upgrade: python-dateutil>=2.1 in c:\\python39\\lib\\site-packages (from jupyter-client>=6.1.1->jupyter-server~=1.4->jupyterlab) (2.8.1)\n",
      "Requirement already satisfied, skipping upgrade: idna>=2.8 in c:\\python39\\lib\\site-packages (from anyio>=2.0.2->jupyter-server~=1.4->jupyterlab) (2.10)\n",
      "Requirement already satisfied, skipping upgrade: sniffio>=1.1 in c:\\python39\\lib\\site-packages (from anyio>=2.0.2->jupyter-server~=1.4->jupyterlab) (1.2.0)\n",
      "Requirement already satisfied, skipping upgrade: pyrsistent>=0.14.0 in c:\\python39\\lib\\site-packages (from jsonschema>=3.0.1->jupyterlab-server~=2.3->jupyterlab) (0.17.3)\n",
      "Requirement already satisfied, skipping upgrade: attrs>=17.4.0 in c:\\python39\\lib\\site-packages (from jsonschema>=3.0.1->jupyterlab-server~=2.3->jupyterlab) (20.3.0)\n",
      "Requirement already satisfied, skipping upgrade: six>=1.11.0 in c:\\python39\\lib\\site-packages (from jsonschema>=3.0.1->jupyterlab-server~=2.3->jupyterlab) (1.15.0)\n",
      "Requirement already satisfied, skipping upgrade: pytz>=2015.7 in c:\\python39\\lib\\site-packages (from babel->jupyterlab-server~=2.3->jupyterlab) (2021.1)\n",
      "Requirement already satisfied, skipping upgrade: chardet<5,>=3.0.2 in c:\\python39\\lib\\site-packages (from requests->jupyterlab-server~=2.3->jupyterlab) (4.0.0)\n",
      "Requirement already satisfied, skipping upgrade: urllib3<1.27,>=1.21.1 in c:\\python39\\lib\\site-packages (from requests->jupyterlab-server~=2.3->jupyterlab) (1.26.4)\n",
      "Requirement already satisfied, skipping upgrade: certifi>=2017.4.17 in c:\\python39\\lib\\site-packages (from requests->jupyterlab-server~=2.3->jupyterlab) (2020.12.5)\n",
      "Requirement already satisfied, skipping upgrade: ipykernel in c:\\python39\\lib\\site-packages (from notebook<7->nbclassic~=0.2->jupyterlab) (5.5.0)\n",
      "Requirement already satisfied, skipping upgrade: argon2-cffi in c:\\python39\\lib\\site-packages (from notebook<7->nbclassic~=0.2->jupyterlab) (20.1.0)\n",
      "Requirement already satisfied, skipping upgrade: parso<0.9.0,>=0.8.0 in c:\\python39\\lib\\site-packages (from jedi>=0.16->ipython->jupyterlab) (0.8.1)\n",
      "Requirement already satisfied, skipping upgrade: wcwidth in c:\\python39\\lib\\site-packages (from prompt-toolkit!=3.0.0,!=3.0.1,<3.1.0,>=2.0.0->ipython->jupyterlab) (0.2.5)\n",
      "Collecting gitdb<5,>=4.0.1\n",
      "  Using cached gitdb-4.0.7-py3-none-any.whl (63 kB)\n",
      "Requirement already satisfied, skipping upgrade: webencodings in c:\\python39\\lib\\site-packages (from bleach->nbconvert->jupyter-server~=1.4->jupyterlab) (0.5.1)\n",
      "Requirement already satisfied, skipping upgrade: nest-asyncio in c:\\python39\\lib\\site-packages (from nbclient<0.6.0,>=0.5.0->nbconvert->jupyter-server~=1.4->jupyterlab) (1.5.1)\n",
      "Requirement already satisfied, skipping upgrade: async-generator in c:\\python39\\lib\\site-packages (from nbclient<0.6.0,>=0.5.0->nbconvert->jupyter-server~=1.4->jupyterlab) (1.10)\n",
      "Requirement already satisfied, skipping upgrade: cffi>=1.0.0 in c:\\python39\\lib\\site-packages (from argon2-cffi->notebook<7->nbclassic~=0.2->jupyterlab) (1.14.5)\n",
      "Collecting smmap<5,>=3.0.1\n",
      "  Using cached smmap-4.0.0-py2.py3-none-any.whl (24 kB)\n",
      "Requirement already satisfied, skipping upgrade: pycparser in c:\\python39\\lib\\site-packages (from cffi>=1.0.0->argon2-cffi->notebook<7->nbclassic~=0.2->jupyterlab) (2.20)\n",
      "Installing collected packages: jupyterlab, ptyprocess, pexpect, jupyter-server-mathjax, smmap, gitdb, GitPython, nbdime, jupyterlab-git\n",
      "Successfully installed GitPython-3.1.18 gitdb-4.0.7 jupyter-server-mathjax-0.2.3 jupyterlab-3.0.16 jupyterlab-git-0.30.1 nbdime-3.1.0 pexpect-4.8.0 ptyprocess-0.7.0 smmap-4.0.0\n"
     ]
    }
   ],
   "source": [
    "pip install --upgrade jupyterlab jupyterlab-git --user"
   ]
  },
  {
   "cell_type": "code",
   "execution_count": 22,
   "id": "dimensional-prompt",
   "metadata": {},
   "outputs": [
    {
     "name": "stdout",
     "output_type": "stream",
     "text": [
      "Requirement already up-to-date: jupyterlab in c:\\users\\rajas\\appdata\\roaming\\python\\python39\\site-packages (3.0.16)Note: you may need to restart the kernel to use updated packages.\n",
      "Requirement already satisfied, skipping upgrade: jinja2>=2.1 in c:\\python39\\lib\\site-packages (from jupyterlab) (2.11.3)\n",
      "Requirement already satisfied, skipping upgrade: tornado>=6.1.0 in c:\\python39\\lib\\site-packages (from jupyterlab) (6.1)\n",
      "\n"
     ]
    },
    {
     "name": "stderr",
     "output_type": "stream",
     "text": [
      "WARNING: You are using pip version 20.2.3; however, version 21.1.2 is available.\n",
      "You should consider upgrading via the 'c:\\python39\\python.exe -m pip install --upgrade pip' command.\n"
     ]
    },
    {
     "name": "stdout",
     "output_type": "stream",
     "text": [
      "Requirement already satisfied, skipping upgrade: ipython in c:\\python39\\lib\\site-packages (from jupyterlab) (7.21.0)\n",
      "Requirement already satisfied, skipping upgrade: jupyter-core in c:\\python39\\lib\\site-packages (from jupyterlab) (4.7.1)\n",
      "Requirement already satisfied, skipping upgrade: jupyter-server~=1.4 in c:\\python39\\lib\\site-packages (from jupyterlab) (1.4.1)\n",
      "Requirement already satisfied, skipping upgrade: nbclassic~=0.2 in c:\\python39\\lib\\site-packages (from jupyterlab) (0.2.6)\n",
      "Requirement already satisfied, skipping upgrade: jupyterlab-server~=2.3 in c:\\python39\\lib\\site-packages (from jupyterlab) (2.3.0)\n",
      "Requirement already satisfied, skipping upgrade: packaging in c:\\python39\\lib\\site-packages (from jupyterlab) (20.9)\n",
      "Requirement already satisfied, skipping upgrade: MarkupSafe>=0.23 in c:\\python39\\lib\\site-packages (from jinja2>=2.1->jupyterlab) (1.1.1)\n",
      "Requirement already satisfied, skipping upgrade: jedi>=0.16 in c:\\python39\\lib\\site-packages (from ipython->jupyterlab) (0.18.0)\n",
      "Requirement already satisfied, skipping upgrade: pickleshare in c:\\python39\\lib\\site-packages (from ipython->jupyterlab) (0.7.5)\n",
      "Requirement already satisfied, skipping upgrade: traitlets>=4.2 in c:\\python39\\lib\\site-packages (from ipython->jupyterlab) (5.0.5)\n",
      "Requirement already satisfied, skipping upgrade: prompt-toolkit!=3.0.0,!=3.0.1,<3.1.0,>=2.0.0 in c:\\python39\\lib\\site-packages (from ipython->jupyterlab) (3.0.17)\n",
      "Requirement already satisfied, skipping upgrade: backcall in c:\\python39\\lib\\site-packages (from ipython->jupyterlab) (0.2.0)\n",
      "Requirement already satisfied, skipping upgrade: decorator in c:\\python39\\lib\\site-packages (from ipython->jupyterlab) (4.4.2)\n",
      "Requirement already satisfied, skipping upgrade: pygments in c:\\python39\\lib\\site-packages (from ipython->jupyterlab) (2.8.1)\n",
      "Requirement already satisfied, skipping upgrade: setuptools>=18.5 in c:\\python39\\lib\\site-packages (from ipython->jupyterlab) (49.2.1)\n",
      "Requirement already satisfied, skipping upgrade: colorama; sys_platform == \"win32\" in c:\\python39\\lib\\site-packages (from ipython->jupyterlab) (0.4.4)\n",
      "Requirement already satisfied, skipping upgrade: pywin32>=1.0; sys_platform == \"win32\" in c:\\python39\\lib\\site-packages (from jupyter-core->jupyterlab) (300)\n",
      "Requirement already satisfied, skipping upgrade: terminado>=0.8.3 in c:\\python39\\lib\\site-packages (from jupyter-server~=1.4->jupyterlab) (0.9.3)\n",
      "Requirement already satisfied, skipping upgrade: anyio>=2.0.2 in c:\\python39\\lib\\site-packages (from jupyter-server~=1.4->jupyterlab) (2.2.0)\n",
      "Requirement already satisfied, skipping upgrade: ipython-genutils in c:\\python39\\lib\\site-packages (from jupyter-server~=1.4->jupyterlab) (0.2.0)\n",
      "Requirement already satisfied, skipping upgrade: prometheus-client in c:\\python39\\lib\\site-packages (from jupyter-server~=1.4->jupyterlab) (0.9.0)\n",
      "Requirement already satisfied, skipping upgrade: nbconvert in c:\\python39\\lib\\site-packages (from jupyter-server~=1.4->jupyterlab) (6.0.7)\n",
      "Requirement already satisfied, skipping upgrade: nbformat in c:\\python39\\lib\\site-packages (from jupyter-server~=1.4->jupyterlab) (5.1.2)\n",
      "Requirement already satisfied, skipping upgrade: pyzmq>=17 in c:\\python39\\lib\\site-packages (from jupyter-server~=1.4->jupyterlab) (22.0.3)\n",
      "Requirement already satisfied, skipping upgrade: Send2Trash in c:\\python39\\lib\\site-packages (from jupyter-server~=1.4->jupyterlab) (1.5.0)\n",
      "Requirement already satisfied, skipping upgrade: jupyter-client>=6.1.1 in c:\\python39\\lib\\site-packages (from jupyter-server~=1.4->jupyterlab) (6.1.12)\n",
      "Requirement already satisfied, skipping upgrade: notebook<7 in c:\\python39\\lib\\site-packages (from nbclassic~=0.2->jupyterlab) (6.2.0)\n",
      "Requirement already satisfied, skipping upgrade: json5 in c:\\python39\\lib\\site-packages (from jupyterlab-server~=2.3->jupyterlab) (0.9.5)\n",
      "Requirement already satisfied, skipping upgrade: babel in c:\\python39\\lib\\site-packages (from jupyterlab-server~=2.3->jupyterlab) (2.9.0)\n",
      "Requirement already satisfied, skipping upgrade: requests in c:\\python39\\lib\\site-packages (from jupyterlab-server~=2.3->jupyterlab) (2.25.1)\n",
      "Requirement already satisfied, skipping upgrade: jsonschema>=3.0.1 in c:\\python39\\lib\\site-packages (from jupyterlab-server~=2.3->jupyterlab) (3.2.0)\n",
      "Requirement already satisfied, skipping upgrade: pyparsing>=2.0.2 in c:\\python39\\lib\\site-packages (from packaging->jupyterlab) (2.4.7)\n",
      "Requirement already satisfied, skipping upgrade: parso<0.9.0,>=0.8.0 in c:\\python39\\lib\\site-packages (from jedi>=0.16->ipython->jupyterlab) (0.8.1)\n",
      "Requirement already satisfied, skipping upgrade: wcwidth in c:\\python39\\lib\\site-packages (from prompt-toolkit!=3.0.0,!=3.0.1,<3.1.0,>=2.0.0->ipython->jupyterlab) (0.2.5)\n",
      "Requirement already satisfied, skipping upgrade: pywinpty>=0.5; os_name == \"nt\" in c:\\python39\\lib\\site-packages (from terminado>=0.8.3->jupyter-server~=1.4->jupyterlab) (0.5.7)\n",
      "Requirement already satisfied, skipping upgrade: idna>=2.8 in c:\\python39\\lib\\site-packages (from anyio>=2.0.2->jupyter-server~=1.4->jupyterlab) (2.10)\n",
      "Requirement already satisfied, skipping upgrade: sniffio>=1.1 in c:\\python39\\lib\\site-packages (from anyio>=2.0.2->jupyter-server~=1.4->jupyterlab) (1.2.0)\n",
      "Requirement already satisfied, skipping upgrade: nbclient<0.6.0,>=0.5.0 in c:\\python39\\lib\\site-packages (from nbconvert->jupyter-server~=1.4->jupyterlab) (0.5.3)\n",
      "Requirement already satisfied, skipping upgrade: defusedxml in c:\\python39\\lib\\site-packages (from nbconvert->jupyter-server~=1.4->jupyterlab) (0.7.1)\n",
      "Requirement already satisfied, skipping upgrade: bleach in c:\\python39\\lib\\site-packages (from nbconvert->jupyter-server~=1.4->jupyterlab) (3.3.0)\n",
      "Requirement already satisfied, skipping upgrade: jupyterlab-pygments in c:\\python39\\lib\\site-packages (from nbconvert->jupyter-server~=1.4->jupyterlab) (0.1.2)\n",
      "Requirement already satisfied, skipping upgrade: entrypoints>=0.2.2 in c:\\python39\\lib\\site-packages (from nbconvert->jupyter-server~=1.4->jupyterlab) (0.3)\n",
      "Requirement already satisfied, skipping upgrade: testpath in c:\\python39\\lib\\site-packages (from nbconvert->jupyter-server~=1.4->jupyterlab) (0.4.4)\n",
      "Requirement already satisfied, skipping upgrade: mistune<2,>=0.8.1 in c:\\python39\\lib\\site-packages (from nbconvert->jupyter-server~=1.4->jupyterlab) (0.8.4)\n",
      "Requirement already satisfied, skipping upgrade: pandocfilters>=1.4.1 in c:\\python39\\lib\\site-packages (from nbconvert->jupyter-server~=1.4->jupyterlab) (1.4.3)\n",
      "Requirement already satisfied, skipping upgrade: python-dateutil>=2.1 in c:\\python39\\lib\\site-packages (from jupyter-client>=6.1.1->jupyter-server~=1.4->jupyterlab) (2.8.1)\n",
      "Requirement already satisfied, skipping upgrade: argon2-cffi in c:\\python39\\lib\\site-packages (from notebook<7->nbclassic~=0.2->jupyterlab) (20.1.0)\n",
      "Requirement already satisfied, skipping upgrade: ipykernel in c:\\python39\\lib\\site-packages (from notebook<7->nbclassic~=0.2->jupyterlab) (5.5.0)\n",
      "Requirement already satisfied, skipping upgrade: pytz>=2015.7 in c:\\python39\\lib\\site-packages (from babel->jupyterlab-server~=2.3->jupyterlab) (2021.1)\n",
      "Requirement already satisfied, skipping upgrade: chardet<5,>=3.0.2 in c:\\python39\\lib\\site-packages (from requests->jupyterlab-server~=2.3->jupyterlab) (4.0.0)\n",
      "Requirement already satisfied, skipping upgrade: urllib3<1.27,>=1.21.1 in c:\\python39\\lib\\site-packages (from requests->jupyterlab-server~=2.3->jupyterlab) (1.26.4)\n",
      "Requirement already satisfied, skipping upgrade: certifi>=2017.4.17 in c:\\python39\\lib\\site-packages (from requests->jupyterlab-server~=2.3->jupyterlab) (2020.12.5)\n",
      "Requirement already satisfied, skipping upgrade: pyrsistent>=0.14.0 in c:\\python39\\lib\\site-packages (from jsonschema>=3.0.1->jupyterlab-server~=2.3->jupyterlab) (0.17.3)\n",
      "Requirement already satisfied, skipping upgrade: attrs>=17.4.0 in c:\\python39\\lib\\site-packages (from jsonschema>=3.0.1->jupyterlab-server~=2.3->jupyterlab) (20.3.0)\n",
      "Requirement already satisfied, skipping upgrade: six>=1.11.0 in c:\\python39\\lib\\site-packages (from jsonschema>=3.0.1->jupyterlab-server~=2.3->jupyterlab) (1.15.0)\n",
      "Requirement already satisfied, skipping upgrade: async-generator in c:\\python39\\lib\\site-packages (from nbclient<0.6.0,>=0.5.0->nbconvert->jupyter-server~=1.4->jupyterlab) (1.10)\n",
      "Requirement already satisfied, skipping upgrade: nest-asyncio in c:\\python39\\lib\\site-packages (from nbclient<0.6.0,>=0.5.0->nbconvert->jupyter-server~=1.4->jupyterlab) (1.5.1)\n",
      "Requirement already satisfied, skipping upgrade: webencodings in c:\\python39\\lib\\site-packages (from bleach->nbconvert->jupyter-server~=1.4->jupyterlab) (0.5.1)\n",
      "Requirement already satisfied, skipping upgrade: cffi>=1.0.0 in c:\\python39\\lib\\site-packages (from argon2-cffi->notebook<7->nbclassic~=0.2->jupyterlab) (1.14.5)\n",
      "Requirement already satisfied, skipping upgrade: pycparser in c:\\python39\\lib\\site-packages (from cffi>=1.0.0->argon2-cffi->notebook<7->nbclassic~=0.2->jupyterlab) (2.20)\n"
     ]
    }
   ],
   "source": [
    "pip install --upgrade jupyterlab --user"
   ]
  },
  {
   "cell_type": "code",
   "execution_count": null,
   "id": "northern-brunswick",
   "metadata": {},
   "outputs": [],
   "source": []
  }
 ],
 "metadata": {
  "kernelspec": {
   "display_name": "Python 3",
   "language": "python",
   "name": "python3"
  },
  "language_info": {
   "codemirror_mode": {
    "name": "ipython",
    "version": 3
   },
   "file_extension": ".py",
   "mimetype": "text/x-python",
   "name": "python",
   "nbconvert_exporter": "python",
   "pygments_lexer": "ipython3",
   "version": "3.9.2"
  }
 },
 "nbformat": 4,
 "nbformat_minor": 5
}
